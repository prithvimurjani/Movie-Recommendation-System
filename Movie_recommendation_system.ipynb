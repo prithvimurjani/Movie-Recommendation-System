{
  "nbformat": 4,
  "nbformat_minor": 0,
  "metadata": {
    "colab": {
      "name": "Movie recommendation system.ipynb",
      "provenance": []
    },
    "kernelspec": {
      "name": "python3",
      "display_name": "Python 3"
    },
    "language_info": {
      "name": "python"
    }
  },
  "cells": [
    {
      "cell_type": "code",
      "metadata": {
        "id": "6f6i5J-07t4n"
      },
      "source": [
        "import json\n",
        "\n",
        "import numpy as np"
      ],
      "execution_count": 1,
      "outputs": []
    },
    {
      "cell_type": "code",
      "metadata": {
        "id": "RO644p7X-1hP"
      },
      "source": [
        "from compute_scores import pearson_score\n",
        "\n",
        "from collaborative_filtering import find_similar_users"
      ],
      "execution_count": 2,
      "outputs": []
    },
    {
      "cell_type": "code",
      "metadata": {
        "id": "955wKCaS__No"
      },
      "source": [
        "# Get movie recommendations for the input user\n",
        "def get_recommendations(dataset, input_user):\n",
        "    if input_user not in dataset:\n",
        "        raise TypeError('Cannot find ' + input_user + ' in the dataset')\n",
        "\n",
        "    overall_scores = {}\n",
        "    similarity_scores = {}\n",
        "\n",
        "    for user in [x for x in dataset if x != input_user]:\n",
        "        similarity_score = pearson_score(dataset, input_user, user)\n",
        "\n",
        "        if similarity_score <= 0:\n",
        "            continue\n",
        "        \n",
        "        filtered_list = [x for x in dataset[user] if x not in \\\n",
        "                dataset[input_user] or dataset[input_user][x] == 0]\n",
        "\n",
        "        for item in filtered_list: \n",
        "            overall_scores.update({item: dataset[user][item] * similarity_score})\n",
        "            similarity_scores.update({item: similarity_score})\n",
        "\n",
        "    if len(overall_scores) == 0:\n",
        "        return ['No recommendations possible']\n",
        "\n",
        "    # Generate movie ranks by normalization \n",
        "    movie_scores = np.array([[score/similarity_scores[item], item] \n",
        "            for item, score in overall_scores.items()])\n",
        "\n",
        "    # Sort in decreasing order \n",
        "    movie_scores = movie_scores[np.argsort(movie_scores[:, 0])[::-1]]\n",
        "\n",
        "    # Extract the movie recommendations\n",
        "    movie_recommendations = [movie for _, movie in movie_scores]\n",
        "\n",
        "    return movie_recommendations"
      ],
      "execution_count": 3,
      "outputs": []
    },
    {
      "cell_type": "code",
      "metadata": {
        "colab": {
          "base_uri": "https://localhost:8080/"
        },
        "id": "LiVfyz5t-3OZ",
        "outputId": "7d5f5011-20cb-4d6b-89b8-176e393c23e0"
      },
      "source": [
        "if __name__=='__main__':\n",
        "\n",
        "    user = 'Chris Duncan'\n",
        "\n",
        "\n",
        "\n",
        "    ratings_file = 'ratings.json'\n",
        "\n",
        "\n",
        "\n",
        "    with open(ratings_file, 'r') as f:\n",
        "\n",
        "        data = json.loads(f.read())\n",
        "\n",
        "\n",
        "\n",
        "    print(\"\\nMovie recommendations for \" + user + \":\")\n",
        "\n",
        "    movies = get_recommendations(data, user) \n",
        "\n",
        "    for i, movie in enumerate(movies):\n",
        "\n",
        "        print(str(i+1) + '. ' + movie)"
      ],
      "execution_count": 4,
      "outputs": [
        {
          "output_type": "stream",
          "name": "stdout",
          "text": [
            "\n",
            "Movie recommendations for Chris Duncan:\n",
            "1. Vertigo\n",
            "2. Scarface\n",
            "3. Goodfellas\n",
            "4. Roman Holiday\n"
          ]
        }
      ]
    }
  ]
}